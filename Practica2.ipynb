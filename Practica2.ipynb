{
 "cells": [
  {
   "cell_type": "markdown",
   "metadata": {},
   "source": [
    "# Introducción\n",
    "\n",
    "En esta práctica vamos a repasar diferentes tests estadísticos. Para ello nos ayudamos de los datos publicados por BCSC:\n",
    "*NCI-funded Breast Cancer Surveillance Consortium (P01 CA154292 and HHSN261201100031C). Downloaded mm/dd/yyyy from the Breast Cancer Surveillance Consortium Web site - http://www.bcsc-research.org/data/index.html.*\n",
    "\n",
    "Concretamente a través de este enlace:\n",
    "http://www.bcsc-research.org/data/rf/app2/DownloadRequest.aspx\n",
    "\n",
    "\n",
    "El fichero *BCSC_risk_factors_summarized.csv* descargado lo teneis en la carpeta *data*.\n",
    "\n",
    "Ese fichero es un CSV, la descripción de cada columna se puede ver en la siguiente tabla:"
   ]
  },
  {
   "cell_type": "markdown",
   "metadata": {},
   "source": [
    "\n",
    "| Nombre de variable | Descripción | Código | \n",
    "|-|-|-|\n",
    "| year | Año de la observación | Numérico, 2000-2009 |\n",
    "| year_group_5_years| Edad (años) en grupos de 5 años |  1 = Edad 18-29;  2 = Edad 30-34; 3 = Edad 35-39; 4 = Edad 40-44; 5 = Edad 45-49; 6 = Edad 50-54; 7 = Edad 55-59; 8 = Edad 60-64; 9 = Edad 65-69; 10 = Edad 70-74; 11 = Edad 75-79; 12 = Edad 80-84; 13 = Edad ≥85 |\n",
    "| race_eth | Grupo étnico | 1 = Non-Hispanic white; 2 = Non-Hispanic black; 3 = Asian/Pacific Islander; 4 = Native American; 5 = Hispanic; 6 = Other/mixed; 9 = Desconocido |\n",
    "| first_degree_hx | Historial de cancer de un familiar de primer grado | 0 = No; 1 = Sí; 9 = Desconocido |\n",
    "| Edad_menarche | Edad (años) at menarche |0 = Edad ≥14; 1 = Edad 12-13; 2 = Edad <12; 9 = Desconocido\n",
    "| Edad_first_birth | Edad (años) at first birth | 0 = Edad < 20; 1 = Edad 20-24; 2 = Edad 25-29; 3 = Edad ≥30; 4 = Nulliparous; 9 = Desconocido |\n",
    "| BIRADS_breast_density | BI-RADS densidad del cancer de pecho| 1 = Almost entirely fat; 2 =Scattered fibroglandular densities; 3 = Heterogeneously dense; 4 = Extremely dense; 9 = Desconocido |\n",
    "| current_hrt | Uso de terapia de hormonas de reemplazo | 0 = No; 1 = Sí; 9 = Desconocido |\n",
    "| menopaus | Menopausal status | 1 = Pre- or peri-menopausal; 2 = Post-menopausal; 3 = Surgical menopause; 9 = Desconocido |\n",
    "| bmi_group |  Body mass index | 1 = 10-24.99; 2 = 25-29.99; 3 = 30-34.99; 4 = 35 or more; 9 = Desconocido |\n",
    "| biophx | Biopsia previa o aspiración | 0 = No; 1 = Sí; 9 = Desconocido |\n",
    "| breast_cancer_history | Cancer diagnosticado con anterioridad | 0 = No; 1 = Sí; 9 = Desconocido |\n",
    "| count | Número de ocurrencias de estas covariables | Numérico|\n",
    "\n",
    "\n"
   ]
  },
  {
   "cell_type": "markdown",
   "metadata": {},
   "source": [
    "Leemos los datos del csv y los adaptamos. Pasos a seguir:\n",
    "1. Replicamos las filas indicadas por la columna *count*\n",
    "2. Los datos son muy grandes, para agilizar la práctica nos quedamos con 5000 muestras elegidas con muestreo aleatorio simple. El resto se puede descartar.\n",
    "3. Se adapta el resto"
   ]
  },
  {
   "cell_type": "code",
   "execution_count": 1,
   "metadata": {},
   "outputs": [
    {
     "data": {
      "text/html": [
       "<table>\n",
       "<thead><tr><th scope=col>year</th><th scope=col>age_group_5_years</th><th scope=col>race_eth</th><th scope=col>first_degree_hx</th><th scope=col>age_menarche</th><th scope=col>age_first_birth</th><th scope=col>BIRADS_breast_density</th><th scope=col>current_hrt</th><th scope=col>menopaus</th><th scope=col>bmi_group</th><th scope=col>biophx</th><th scope=col>breast_cancer_history</th><th scope=col>count</th></tr></thead>\n",
       "<tbody>\n",
       "\t<tr><td>2000</td><td>1   </td><td>1   </td><td>0   </td><td>0   </td><td>0   </td><td>1   </td><td>0   </td><td>1   </td><td>3   </td><td>0   </td><td>0   </td><td>1   </td></tr>\n",
       "\t<tr><td>2000</td><td>1   </td><td>1   </td><td>0   </td><td>0   </td><td>1   </td><td>3   </td><td>0   </td><td>1   </td><td>2   </td><td>0   </td><td>0   </td><td>1   </td></tr>\n",
       "\t<tr><td>2000</td><td>1   </td><td>1   </td><td>0   </td><td>0   </td><td>1   </td><td>4   </td><td>0   </td><td>1   </td><td>1   </td><td>0   </td><td>0   </td><td>2   </td></tr>\n",
       "\t<tr><td>2000</td><td>1   </td><td>1   </td><td>0   </td><td>0   </td><td>2   </td><td>3   </td><td>0   </td><td>1   </td><td>1   </td><td>0   </td><td>0   </td><td>1   </td></tr>\n",
       "\t<tr><td>2000</td><td>1   </td><td>1   </td><td>0   </td><td>0   </td><td>2   </td><td>3   </td><td>0   </td><td>1   </td><td>1   </td><td>1   </td><td>9   </td><td>1   </td></tr>\n",
       "\t<tr><td>2000</td><td>1   </td><td>1   </td><td>0   </td><td>0   </td><td>4   </td><td>9   </td><td>0   </td><td>1   </td><td>1   </td><td>0   </td><td>0   </td><td>1   </td></tr>\n",
       "</tbody>\n",
       "</table>\n"
      ],
      "text/latex": [
       "\\begin{tabular}{r|lllllllllllll}\n",
       " year & age\\_group\\_5\\_years & race\\_eth & first\\_degree\\_hx & age\\_menarche & age\\_first\\_birth & BIRADS\\_breast\\_density & current\\_hrt & menopaus & bmi\\_group & biophx & breast\\_cancer\\_history & count\\\\\n",
       "\\hline\n",
       "\t 2000 & 1    & 1    & 0    & 0    & 0    & 1    & 0    & 1    & 3    & 0    & 0    & 1   \\\\\n",
       "\t 2000 & 1    & 1    & 0    & 0    & 1    & 3    & 0    & 1    & 2    & 0    & 0    & 1   \\\\\n",
       "\t 2000 & 1    & 1    & 0    & 0    & 1    & 4    & 0    & 1    & 1    & 0    & 0    & 2   \\\\\n",
       "\t 2000 & 1    & 1    & 0    & 0    & 2    & 3    & 0    & 1    & 1    & 0    & 0    & 1   \\\\\n",
       "\t 2000 & 1    & 1    & 0    & 0    & 2    & 3    & 0    & 1    & 1    & 1    & 9    & 1   \\\\\n",
       "\t 2000 & 1    & 1    & 0    & 0    & 4    & 9    & 0    & 1    & 1    & 0    & 0    & 1   \\\\\n",
       "\\end{tabular}\n"
      ],
      "text/markdown": [
       "\n",
       "year | age_group_5_years | race_eth | first_degree_hx | age_menarche | age_first_birth | BIRADS_breast_density | current_hrt | menopaus | bmi_group | biophx | breast_cancer_history | count | \n",
       "|---|---|---|---|---|---|\n",
       "| 2000 | 1    | 1    | 0    | 0    | 0    | 1    | 0    | 1    | 3    | 0    | 0    | 1    | \n",
       "| 2000 | 1    | 1    | 0    | 0    | 1    | 3    | 0    | 1    | 2    | 0    | 0    | 1    | \n",
       "| 2000 | 1    | 1    | 0    | 0    | 1    | 4    | 0    | 1    | 1    | 0    | 0    | 2    | \n",
       "| 2000 | 1    | 1    | 0    | 0    | 2    | 3    | 0    | 1    | 1    | 0    | 0    | 1    | \n",
       "| 2000 | 1    | 1    | 0    | 0    | 2    | 3    | 0    | 1    | 1    | 1    | 9    | 1    | \n",
       "| 2000 | 1    | 1    | 0    | 0    | 4    | 9    | 0    | 1    | 1    | 0    | 0    | 1    | \n",
       "\n",
       "\n"
      ],
      "text/plain": [
       "  year age_group_5_years race_eth first_degree_hx age_menarche age_first_birth\n",
       "1 2000 1                 1        0               0            0              \n",
       "2 2000 1                 1        0               0            1              \n",
       "3 2000 1                 1        0               0            1              \n",
       "4 2000 1                 1        0               0            2              \n",
       "5 2000 1                 1        0               0            2              \n",
       "6 2000 1                 1        0               0            4              \n",
       "  BIRADS_breast_density current_hrt menopaus bmi_group biophx\n",
       "1 1                     0           1        3         0     \n",
       "2 3                     0           1        2         0     \n",
       "3 4                     0           1        1         0     \n",
       "4 3                     0           1        1         0     \n",
       "5 3                     0           1        1         1     \n",
       "6 9                     0           1        1         0     \n",
       "  breast_cancer_history count\n",
       "1 0                     1    \n",
       "2 0                     1    \n",
       "3 0                     2    \n",
       "4 0                     1    \n",
       "5 9                     1    \n",
       "6 0                     1    "
      ]
     },
     "metadata": {},
     "output_type": "display_data"
    },
    {
     "data": {
      "text/html": [
       "'Filas iniciales: 1144564'"
      ],
      "text/latex": [
       "'Filas iniciales: 1144564'"
      ],
      "text/markdown": [
       "'Filas iniciales: 1144564'"
      ],
      "text/plain": [
       "[1] \"Filas iniciales: 1144564\""
      ]
     },
     "metadata": {},
     "output_type": "display_data"
    },
    {
     "data": {
      "text/html": [
       "'Filas tras la expansion: 6318638'"
      ],
      "text/latex": [
       "'Filas tras la expansion: 6318638'"
      ],
      "text/markdown": [
       "'Filas tras la expansion: 6318638'"
      ],
      "text/plain": [
       "[1] \"Filas tras la expansion: 6318638\""
      ]
     },
     "metadata": {},
     "output_type": "display_data"
    }
   ],
   "source": [
    "# Cargamos el csv\n",
    "df_BCSC <- read.csv(\"./datos/BCSC_risk_factors_summarized.csv\", sep = \",\")\n",
    "head(df_BCSC)\n",
    "\n",
    "# Expandimos las filas\n",
    "df_BCSC_expanded <- df_BCSC[rep(seq(nrow(df_BCSC)), df_BCSC$count),]\n",
    "paste(\"Filas iniciales:\",nrow(df_BCSC))\n",
    "paste(\"Filas tras la expansion:\",nrow(df_BCSC_expanded))"
   ]
  },
  {
   "cell_type": "markdown",
   "metadata": {},
   "source": [
    "El número de filas tras replicar las filas indicadas por la columna *count* es de 6318638. Como este número es muy alto para la máquina virtual que tenemos vamos a realizar una muestreo aleatorio simple y nos quedaremos con 5000 filas. El resto se descartan.\n",
    "\n",
    "*Nota:*Para el muestreo usad la semilla 12345, de esta forma todos tendresmos exactamente los mismos resultados."
   ]
  },
  {
   "cell_type": "code",
   "execution_count": 2,
   "metadata": {},
   "outputs": [
    {
     "data": {
      "text/html": [
       "5000"
      ],
      "text/latex": [
       "5000"
      ],
      "text/markdown": [
       "5000"
      ],
      "text/plain": [
       "[1] 5000"
      ]
     },
     "metadata": {},
     "output_type": "display_data"
    },
    {
     "data": {
      "text/html": [
       "<table>\n",
       "<thead><tr><th></th><th scope=col>year</th><th scope=col>age_group_5_years</th><th scope=col>race_eth</th><th scope=col>first_degree_hx</th><th scope=col>age_menarche</th><th scope=col>age_first_birth</th><th scope=col>BIRADS_breast_density</th><th scope=col>current_hrt</th><th scope=col>menopaus</th><th scope=col>bmi_group</th><th scope=col>biophx</th><th scope=col>breast_cancer_history</th><th scope=col>count</th></tr></thead>\n",
       "<tbody>\n",
       "\t<tr><th scope=row>792997.89</th><td>2006</td><td>8   </td><td>9   </td><td>9   </td><td>9   </td><td>9   </td><td>2   </td><td>9   </td><td>2   </td><td>9   </td><td>0   </td><td>0   </td><td>218 </td></tr>\n",
       "\t<tr><th scope=row>986739.194</th><td>2008</td><td>7   </td><td>2   </td><td>0   </td><td>9   </td><td>9   </td><td>2   </td><td>0   </td><td>2   </td><td>9   </td><td>0   </td><td>0   </td><td>771 </td></tr>\n",
       "\t<tr><th scope=row>845393.799</th><td>2007</td><td>5   </td><td>1   </td><td>0   </td><td>9   </td><td>9   </td><td>2   </td><td>0   </td><td>1   </td><td>9   </td><td>0   </td><td>0   </td><td>877 </td></tr>\n",
       "\t<tr><th scope=row>996805.11</th><td>2008</td><td>8   </td><td>1   </td><td>1   </td><td>1   </td><td>1   </td><td>2   </td><td>0   </td><td>2   </td><td>2   </td><td>0   </td><td>0   </td><td> 32 </td></tr>\n",
       "\t<tr><th scope=row>481428.71</th><td>2004</td><td>3   </td><td>1   </td><td>0   </td><td>9   </td><td>9   </td><td>3   </td><td>0   </td><td>1   </td><td>2   </td><td>0   </td><td>0   </td><td> 97 </td></tr>\n",
       "\t<tr><th scope=row>169906.1</th><td>2001</td><td>6   </td><td>5   </td><td>0   </td><td>9   </td><td>9   </td><td>1   </td><td>1   </td><td>2   </td><td>3   </td><td>0   </td><td>0   </td><td> 11 </td></tr>\n",
       "</tbody>\n",
       "</table>\n"
      ],
      "text/latex": [
       "\\begin{tabular}{r|lllllllllllll}\n",
       "  & year & age\\_group\\_5\\_years & race\\_eth & first\\_degree\\_hx & age\\_menarche & age\\_first\\_birth & BIRADS\\_breast\\_density & current\\_hrt & menopaus & bmi\\_group & biophx & breast\\_cancer\\_history & count\\\\\n",
       "\\hline\n",
       "\t792997.89 & 2006 & 8    & 9    & 9    & 9    & 9    & 2    & 9    & 2    & 9    & 0    & 0    & 218 \\\\\n",
       "\t986739.194 & 2008 & 7    & 2    & 0    & 9    & 9    & 2    & 0    & 2    & 9    & 0    & 0    & 771 \\\\\n",
       "\t845393.799 & 2007 & 5    & 1    & 0    & 9    & 9    & 2    & 0    & 1    & 9    & 0    & 0    & 877 \\\\\n",
       "\t996805.11 & 2008 & 8    & 1    & 1    & 1    & 1    & 2    & 0    & 2    & 2    & 0    & 0    &  32 \\\\\n",
       "\t481428.71 & 2004 & 3    & 1    & 0    & 9    & 9    & 3    & 0    & 1    & 2    & 0    & 0    &  97 \\\\\n",
       "\t169906.1 & 2001 & 6    & 5    & 0    & 9    & 9    & 1    & 1    & 2    & 3    & 0    & 0    &  11 \\\\\n",
       "\\end{tabular}\n"
      ],
      "text/markdown": [
       "\n",
       "| <!--/--> | year | age_group_5_years | race_eth | first_degree_hx | age_menarche | age_first_birth | BIRADS_breast_density | current_hrt | menopaus | bmi_group | biophx | breast_cancer_history | count | \n",
       "|---|---|---|---|---|---|\n",
       "| 792997.89 | 2006 | 8    | 9    | 9    | 9    | 9    | 2    | 9    | 2    | 9    | 0    | 0    | 218  | \n",
       "| 986739.194 | 2008 | 7    | 2    | 0    | 9    | 9    | 2    | 0    | 2    | 9    | 0    | 0    | 771  | \n",
       "| 845393.799 | 2007 | 5    | 1    | 0    | 9    | 9    | 2    | 0    | 1    | 9    | 0    | 0    | 877  | \n",
       "| 996805.11 | 2008 | 8    | 1    | 1    | 1    | 1    | 2    | 0    | 2    | 2    | 0    | 0    |  32  | \n",
       "| 481428.71 | 2004 | 3    | 1    | 0    | 9    | 9    | 3    | 0    | 1    | 2    | 0    | 0    |  97  | \n",
       "| 169906.1 | 2001 | 6    | 5    | 0    | 9    | 9    | 1    | 1    | 2    | 3    | 0    | 0    |  11  | \n",
       "\n",
       "\n"
      ],
      "text/plain": [
       "           year age_group_5_years race_eth first_degree_hx age_menarche\n",
       "792997.89  2006 8                 9        9               9           \n",
       "986739.194 2008 7                 2        0               9           \n",
       "845393.799 2007 5                 1        0               9           \n",
       "996805.11  2008 8                 1        1               1           \n",
       "481428.71  2004 3                 1        0               9           \n",
       "169906.1   2001 6                 5        0               9           \n",
       "           age_first_birth BIRADS_breast_density current_hrt menopaus bmi_group\n",
       "792997.89  9               2                     9           2        9        \n",
       "986739.194 9               2                     0           2        9        \n",
       "845393.799 9               2                     0           1        9        \n",
       "996805.11  1               2                     0           2        2        \n",
       "481428.71  9               3                     0           1        2        \n",
       "169906.1   9               1                     1           2        3        \n",
       "           biophx breast_cancer_history count\n",
       "792997.89  0      0                     218  \n",
       "986739.194 0      0                     771  \n",
       "845393.799 0      0                     877  \n",
       "996805.11  0      0                      32  \n",
       "481428.71  0      0                      97  \n",
       "169906.1   0      0                      11  "
      ]
     },
     "metadata": {},
     "output_type": "display_data"
    }
   ],
   "source": [
    "# Definimos una semilla común para todos:\n",
    "set.seed(12345)\n",
    "# Utiliza muestreo aleatorio simple para quedarnos con 5000 muestras:\n",
    "df_sample <- df_BCSC_expanded[sample(nrow(df_BCSC_expanded), 5000), ]\n",
    "nrow(df_sample)\n",
    "head(df_sample)"
   ]
  },
  {
   "cell_type": "markdown",
   "metadata": {},
   "source": [
    "Formatear el dataframe:\n",
    "* Cambiamos los *Desconocido* por NA en las columnas \"race_eth\", \"first_degree_hx\", \"age_menarche\", \"age_first_birth\", \"BIRADS_breast_density\", \"current_hrt\", \"menopaus\", \"bmi_group\", \"biophx\", \"breast_cancer_history\"\n",
    "* Convertimos a factores las columnas que vamos a necesitar"
   ]
  },
  {
   "cell_type": "code",
   "execution_count": 3,
   "metadata": {},
   "outputs": [
    {
     "name": "stdout",
     "output_type": "stream",
     "text": [
      "[1] \"first_degree_hx\"\n",
      "[1] \"current_hrt\"\n",
      "[1] \"biophx\"\n",
      "[1] \"breast_cancer_history\"\n"
     ]
    },
    {
     "data": {
      "text/html": [
       "<table>\n",
       "<thead><tr><th></th><th scope=col>year</th><th scope=col>age_group_5_years</th><th scope=col>race_eth</th><th scope=col>first_degree_hx</th><th scope=col>age_menarche</th><th scope=col>age_first_birth</th><th scope=col>BIRADS_breast_density</th><th scope=col>current_hrt</th><th scope=col>menopaus</th><th scope=col>bmi_group</th><th scope=col>biophx</th><th scope=col>breast_cancer_history</th><th scope=col>count</th></tr></thead>\n",
       "<tbody>\n",
       "\t<tr><th scope=row>792997.89</th><td>2006</td><td>8   </td><td>NA  </td><td>NA  </td><td>NA  </td><td>NA  </td><td>2   </td><td>NA  </td><td>2   </td><td>NA  </td><td>NO  </td><td>NO  </td><td>218 </td></tr>\n",
       "\t<tr><th scope=row>986739.194</th><td>2008</td><td>7   </td><td>2   </td><td>NO  </td><td>NA  </td><td>NA  </td><td>2   </td><td>NO  </td><td>2   </td><td>NA  </td><td>NO  </td><td>NO  </td><td>771 </td></tr>\n",
       "\t<tr><th scope=row>845393.799</th><td>2007</td><td>5   </td><td>1   </td><td>NO  </td><td>NA  </td><td>NA  </td><td>2   </td><td>NO  </td><td>1   </td><td>NA  </td><td>NO  </td><td>NO  </td><td>877 </td></tr>\n",
       "\t<tr><th scope=row>996805.11</th><td>2008</td><td>8   </td><td>1   </td><td>SI  </td><td>1   </td><td>1   </td><td>2   </td><td>NO  </td><td>2   </td><td>2   </td><td>NO  </td><td>NO  </td><td> 32 </td></tr>\n",
       "\t<tr><th scope=row>481428.71</th><td>2004</td><td>3   </td><td>1   </td><td>NO  </td><td>NA  </td><td>NA  </td><td>3   </td><td>NO  </td><td>1   </td><td>2   </td><td>NO  </td><td>NO  </td><td> 97 </td></tr>\n",
       "\t<tr><th scope=row>169906.1</th><td>2001</td><td>6   </td><td>5   </td><td>NO  </td><td>NA  </td><td>NA  </td><td>1   </td><td>SI  </td><td>2   </td><td>3   </td><td>NO  </td><td>NO  </td><td> 11 </td></tr>\n",
       "</tbody>\n",
       "</table>\n"
      ],
      "text/latex": [
       "\\begin{tabular}{r|lllllllllllll}\n",
       "  & year & age\\_group\\_5\\_years & race\\_eth & first\\_degree\\_hx & age\\_menarche & age\\_first\\_birth & BIRADS\\_breast\\_density & current\\_hrt & menopaus & bmi\\_group & biophx & breast\\_cancer\\_history & count\\\\\n",
       "\\hline\n",
       "\t792997.89 & 2006 & 8    & NA   & NA   & NA   & NA   & 2    & NA   & 2    & NA   & NO   & NO   & 218 \\\\\n",
       "\t986739.194 & 2008 & 7    & 2    & NO   & NA   & NA   & 2    & NO   & 2    & NA   & NO   & NO   & 771 \\\\\n",
       "\t845393.799 & 2007 & 5    & 1    & NO   & NA   & NA   & 2    & NO   & 1    & NA   & NO   & NO   & 877 \\\\\n",
       "\t996805.11 & 2008 & 8    & 1    & SI   & 1    & 1    & 2    & NO   & 2    & 2    & NO   & NO   &  32 \\\\\n",
       "\t481428.71 & 2004 & 3    & 1    & NO   & NA   & NA   & 3    & NO   & 1    & 2    & NO   & NO   &  97 \\\\\n",
       "\t169906.1 & 2001 & 6    & 5    & NO   & NA   & NA   & 1    & SI   & 2    & 3    & NO   & NO   &  11 \\\\\n",
       "\\end{tabular}\n"
      ],
      "text/markdown": [
       "\n",
       "| <!--/--> | year | age_group_5_years | race_eth | first_degree_hx | age_menarche | age_first_birth | BIRADS_breast_density | current_hrt | menopaus | bmi_group | biophx | breast_cancer_history | count | \n",
       "|---|---|---|---|---|---|\n",
       "| 792997.89 | 2006 | 8    | NA   | NA   | NA   | NA   | 2    | NA   | 2    | NA   | NO   | NO   | 218  | \n",
       "| 986739.194 | 2008 | 7    | 2    | NO   | NA   | NA   | 2    | NO   | 2    | NA   | NO   | NO   | 771  | \n",
       "| 845393.799 | 2007 | 5    | 1    | NO   | NA   | NA   | 2    | NO   | 1    | NA   | NO   | NO   | 877  | \n",
       "| 996805.11 | 2008 | 8    | 1    | SI   | 1    | 1    | 2    | NO   | 2    | 2    | NO   | NO   |  32  | \n",
       "| 481428.71 | 2004 | 3    | 1    | NO   | NA   | NA   | 3    | NO   | 1    | 2    | NO   | NO   |  97  | \n",
       "| 169906.1 | 2001 | 6    | 5    | NO   | NA   | NA   | 1    | SI   | 2    | 3    | NO   | NO   |  11  | \n",
       "\n",
       "\n"
      ],
      "text/plain": [
       "           year age_group_5_years race_eth first_degree_hx age_menarche\n",
       "792997.89  2006 8                 NA       NA              NA          \n",
       "986739.194 2008 7                 2        NO              NA          \n",
       "845393.799 2007 5                 1        NO              NA          \n",
       "996805.11  2008 8                 1        SI              1           \n",
       "481428.71  2004 3                 1        NO              NA          \n",
       "169906.1   2001 6                 5        NO              NA          \n",
       "           age_first_birth BIRADS_breast_density current_hrt menopaus bmi_group\n",
       "792997.89  NA              2                     NA          2        NA       \n",
       "986739.194 NA              2                     NO          2        NA       \n",
       "845393.799 NA              2                     NO          1        NA       \n",
       "996805.11  1               2                     NO          2        2        \n",
       "481428.71  NA              3                     NO          1        2        \n",
       "169906.1   NA              1                     SI          2        3        \n",
       "           biophx breast_cancer_history count\n",
       "792997.89  NO     NO                    218  \n",
       "986739.194 NO     NO                    771  \n",
       "845393.799 NO     NO                    877  \n",
       "996805.11  NO     NO                     32  \n",
       "481428.71  NO     NO                     97  \n",
       "169906.1   NO     NO                     11  "
      ]
     },
     "metadata": {},
     "output_type": "display_data"
    },
    {
     "name": "stdout",
     "output_type": "stream",
     "text": [
      "'data.frame':\t5000 obs. of  13 variables:\n",
      " $ year                 : int  2006 2008 2007 2008 2004 2001 2002 2004 2006 2009 ...\n",
      " $ age_group_5_years    : int  8 7 5 8 3 6 10 6 9 10 ...\n",
      " $ race_eth             : Factor w/ 6 levels \"1\",\"2\",\"3\",\"4\",..: NA 2 1 1 1 5 1 NA NA 1 ...\n",
      " $ first_degree_hx      : Factor w/ 2 levels \"NO\",\"SI\": NA 1 1 2 1 1 1 NA 1 NA ...\n",
      " $ age_menarche         : Factor w/ 3 levels \"0\",\"1\",\"2\": NA NA NA 2 NA NA NA NA NA 3 ...\n",
      " $ age_first_birth      : Factor w/ 5 levels \"0\",\"1\",\"2\",\"3\",..: NA NA NA 2 NA NA NA NA 2 NA ...\n",
      " $ BIRADS_breast_density: Factor w/ 4 levels \"1\",\"2\",\"3\",\"4\": 2 2 2 2 3 1 NA NA 1 2 ...\n",
      " $ current_hrt          : Factor w/ 2 levels \"NO\",\"SI\": NA 1 1 1 1 2 1 NA 1 1 ...\n",
      " $ menopaus             : Factor w/ 3 levels \"1\",\"2\",\"3\": 2 2 1 2 1 2 2 NA 2 2 ...\n",
      " $ bmi_group            : Factor w/ 4 levels \"1\",\"2\",\"3\",\"4\": NA NA NA 2 2 3 2 NA NA 2 ...\n",
      " $ biophx               : Factor w/ 2 levels \"NO\",\"SI\": 1 1 1 1 1 1 1 NA 1 1 ...\n",
      " $ breast_cancer_history: Factor w/ 2 levels \"NO\",\"SI\": 1 1 1 1 1 1 1 NA 1 1 ...\n",
      " $ count                : int  218 771 877 32 97 11 148 5518 24 1 ...\n"
     ]
    }
   ],
   "source": [
    "# Definimos las columnas que nos interesan\n",
    "columnas <- c(\"race_eth\", \"first_degree_hx\", \"age_menarche\", \"age_first_birth\", \"BIRADS_breast_density\", \"current_hrt\", \"menopaus\", \"bmi_group\", \"biophx\", \"breast_cancer_history\")\n",
    "for (columna in columnas) {\n",
    "    # Sabemos que todos los 9's de estas columnas deben ser NA\n",
    "    df_sample[df_sample[columna] == 9,columna] <- NA\n",
    "    # Etiquetamos todas las columnas que solo tengan estos 3 valores: 0 = No; 1 = Sí; 9 = Desconocido\n",
    "    unicos <- unique(df_sample[,columna])\n",
    "    if(length(unicos) == 3 & sum(unicos %in% c(0,1,NA)) == 3) {\n",
    "        print(columna)\n",
    "        df_sample[,columna] <- factor(df_sample[,columna], labels=c(\"NO\",\"SI\"))\n",
    "    }\n",
    "    # El resto las factorizamos pero sin etiquetas\n",
    "    else {\n",
    "        df_sample[,columna] <- factor(df_sample[,columna])\n",
    "    }\n",
    "}\n",
    "head(df_sample)\n",
    "str(df_sample)"
   ]
  },
  {
   "cell_type": "markdown",
   "metadata": {},
   "source": [
    "#### Edad y Antecedentes familiares"
   ]
  },
  {
   "cell_type": "markdown",
   "metadata": {},
   "source": [
    "Creamos una nueva columna con la edad estimada para un posterior análisis"
   ]
  },
  {
   "cell_type": "markdown",
   "metadata": {},
   "source": [
    "Representa en un diagrama de cajas cómo varía la **edad de aparición del cancer** en función de si ha habido **antecedentes familiares** o no.\n",
    "Ayuda:\n",
    "- Hay que crear una nueva columna con la edad estimada de cada rango."
   ]
  },
  {
   "cell_type": "code",
   "execution_count": 4,
   "metadata": {},
   "outputs": [
    {
     "data": {
      "text/html": [
       "<table>\n",
       "<thead><tr><th></th><th scope=col>year</th><th scope=col>age_group_5_years</th><th scope=col>race_eth</th><th scope=col>first_degree_hx</th><th scope=col>age_menarche</th><th scope=col>age_first_birth</th><th scope=col>BIRADS_breast_density</th><th scope=col>current_hrt</th><th scope=col>menopaus</th><th scope=col>bmi_group</th><th scope=col>biophx</th><th scope=col>breast_cancer_history</th><th scope=col>count</th><th scope=col>edad_estimada</th></tr></thead>\n",
       "<tbody>\n",
       "\t<tr><th scope=row>792997.89</th><td>2006</td><td>8   </td><td>NA  </td><td>NA  </td><td>NA  </td><td>NA  </td><td>2   </td><td>NA  </td><td>2   </td><td>NA  </td><td>NO  </td><td>NO  </td><td>218 </td><td>62  </td></tr>\n",
       "\t<tr><th scope=row>986739.194</th><td>2008</td><td>7   </td><td>2   </td><td>NO  </td><td>NA  </td><td>NA  </td><td>2   </td><td>NO  </td><td>2   </td><td>NA  </td><td>NO  </td><td>NO  </td><td>771 </td><td>57  </td></tr>\n",
       "\t<tr><th scope=row>845393.799</th><td>2007</td><td>5   </td><td>1   </td><td>NO  </td><td>NA  </td><td>NA  </td><td>2   </td><td>NO  </td><td>1   </td><td>NA  </td><td>NO  </td><td>NO  </td><td>877 </td><td>47  </td></tr>\n",
       "\t<tr><th scope=row>996805.11</th><td>2008</td><td>8   </td><td>1   </td><td>SI  </td><td>1   </td><td>1   </td><td>2   </td><td>NO  </td><td>2   </td><td>2   </td><td>NO  </td><td>NO  </td><td> 32 </td><td>62  </td></tr>\n",
       "\t<tr><th scope=row>481428.71</th><td>2004</td><td>3   </td><td>1   </td><td>NO  </td><td>NA  </td><td>NA  </td><td>3   </td><td>NO  </td><td>1   </td><td>2   </td><td>NO  </td><td>NO  </td><td> 97 </td><td>37  </td></tr>\n",
       "\t<tr><th scope=row>169906.1</th><td>2001</td><td>6   </td><td>5   </td><td>NO  </td><td>NA  </td><td>NA  </td><td>1   </td><td>SI  </td><td>2   </td><td>3   </td><td>NO  </td><td>NO  </td><td> 11 </td><td>52  </td></tr>\n",
       "</tbody>\n",
       "</table>\n"
      ],
      "text/latex": [
       "\\begin{tabular}{r|llllllllllllll}\n",
       "  & year & age\\_group\\_5\\_years & race\\_eth & first\\_degree\\_hx & age\\_menarche & age\\_first\\_birth & BIRADS\\_breast\\_density & current\\_hrt & menopaus & bmi\\_group & biophx & breast\\_cancer\\_history & count & edad\\_estimada\\\\\n",
       "\\hline\n",
       "\t792997.89 & 2006 & 8    & NA   & NA   & NA   & NA   & 2    & NA   & 2    & NA   & NO   & NO   & 218  & 62  \\\\\n",
       "\t986739.194 & 2008 & 7    & 2    & NO   & NA   & NA   & 2    & NO   & 2    & NA   & NO   & NO   & 771  & 57  \\\\\n",
       "\t845393.799 & 2007 & 5    & 1    & NO   & NA   & NA   & 2    & NO   & 1    & NA   & NO   & NO   & 877  & 47  \\\\\n",
       "\t996805.11 & 2008 & 8    & 1    & SI   & 1    & 1    & 2    & NO   & 2    & 2    & NO   & NO   &  32  & 62  \\\\\n",
       "\t481428.71 & 2004 & 3    & 1    & NO   & NA   & NA   & 3    & NO   & 1    & 2    & NO   & NO   &  97  & 37  \\\\\n",
       "\t169906.1 & 2001 & 6    & 5    & NO   & NA   & NA   & 1    & SI   & 2    & 3    & NO   & NO   &  11  & 52  \\\\\n",
       "\\end{tabular}\n"
      ],
      "text/markdown": [
       "\n",
       "| <!--/--> | year | age_group_5_years | race_eth | first_degree_hx | age_menarche | age_first_birth | BIRADS_breast_density | current_hrt | menopaus | bmi_group | biophx | breast_cancer_history | count | edad_estimada | \n",
       "|---|---|---|---|---|---|\n",
       "| 792997.89 | 2006 | 8    | NA   | NA   | NA   | NA   | 2    | NA   | 2    | NA   | NO   | NO   | 218  | 62   | \n",
       "| 986739.194 | 2008 | 7    | 2    | NO   | NA   | NA   | 2    | NO   | 2    | NA   | NO   | NO   | 771  | 57   | \n",
       "| 845393.799 | 2007 | 5    | 1    | NO   | NA   | NA   | 2    | NO   | 1    | NA   | NO   | NO   | 877  | 47   | \n",
       "| 996805.11 | 2008 | 8    | 1    | SI   | 1    | 1    | 2    | NO   | 2    | 2    | NO   | NO   |  32  | 62   | \n",
       "| 481428.71 | 2004 | 3    | 1    | NO   | NA   | NA   | 3    | NO   | 1    | 2    | NO   | NO   |  97  | 37   | \n",
       "| 169906.1 | 2001 | 6    | 5    | NO   | NA   | NA   | 1    | SI   | 2    | 3    | NO   | NO   |  11  | 52   | \n",
       "\n",
       "\n"
      ],
      "text/plain": [
       "           year age_group_5_years race_eth first_degree_hx age_menarche\n",
       "792997.89  2006 8                 NA       NA              NA          \n",
       "986739.194 2008 7                 2        NO              NA          \n",
       "845393.799 2007 5                 1        NO              NA          \n",
       "996805.11  2008 8                 1        SI              1           \n",
       "481428.71  2004 3                 1        NO              NA          \n",
       "169906.1   2001 6                 5        NO              NA          \n",
       "           age_first_birth BIRADS_breast_density current_hrt menopaus bmi_group\n",
       "792997.89  NA              2                     NA          2        NA       \n",
       "986739.194 NA              2                     NO          2        NA       \n",
       "845393.799 NA              2                     NO          1        NA       \n",
       "996805.11  1               2                     NO          2        2        \n",
       "481428.71  NA              3                     NO          1        2        \n",
       "169906.1   NA              1                     SI          2        3        \n",
       "           biophx breast_cancer_history count edad_estimada\n",
       "792997.89  NO     NO                    218   62           \n",
       "986739.194 NO     NO                    771   57           \n",
       "845393.799 NO     NO                    877   47           \n",
       "996805.11  NO     NO                     32   62           \n",
       "481428.71  NO     NO                     97   37           \n",
       "169906.1   NO     NO                     11   52           "
      ]
     },
     "metadata": {},
     "output_type": "display_data"
    }
   ],
   "source": [
    "# Creamos un vector con la media de las edades de los rangos, coincidendo el indice con el valor asociado al rango\n",
    "media_edades <- c((18+29)/2, (30+34)/2, (35+39)/2, (40+44)/2, (45+49)/2, (50+54)/2, (55+59)/2, (60+64)/2, (65+69)/2, (70+74)/2, (75+79)/2, (80+84)/2, 85)\n",
    "\n",
    "# Creamos la nueva columna con la media de edad asociada a cada rango\n",
    "df_sample$edad_estimada <- media_edades[df_sample$age_group_5_years]\n",
    "head(df_sample)"
   ]
  },
  {
   "cell_type": "code",
   "execution_count": 5,
   "metadata": {},
   "outputs": [
    {
     "name": "stderr",
     "output_type": "stream",
     "text": [
      "Loading required package: ggplot2\n"
     ]
    },
    {
     "data": {},
     "metadata": {},
     "output_type": "display_data"
    },
    {
     "data": {
      "image/png": "[encoded data removed]",
      "text/plain": [
       "plot without title"
      ]
     },
     "metadata": {},
     "output_type": "display_data"
    }
   ],
   "source": [
    "require(ggplot2)\n",
    "options(repr.plot.width=7,repr.plot.height=4)\n",
    "ggplot(data=df_sample,aes(x=first_degree_hx ,y=edad_estimada,color=first_degree_hx)) + geom_boxplot()"
   ]
  },
  {
   "cell_type": "markdown",
   "metadata": {},
   "source": [
    "** Vemos que la mediana de edad es la misma tanto para los que tienen antecedentes como los que no.Solo hay un poco de difernecia entre los 48 y 51 años**"
   ]
  },
  {
   "cell_type": "markdown",
   "metadata": {},
   "source": [
    "¿Existe una diferencia estadística significativa entre la edad de aparición del cancer y si hay antecedentes familiares? ¿Que test usarías para comprobarlo?"
   ]
  },
  {
   "cell_type": "code",
   "execution_count": 6,
   "metadata": {},
   "outputs": [
    {
     "data": {
      "text/html": [
       "2.60482339372261e-11"
      ],
      "text/latex": [
       "2.60482339372261e-11"
      ],
      "text/markdown": [
       "2.60482339372261e-11"
      ],
      "text/plain": [
       "[1] 2.604823e-11"
      ]
     },
     "metadata": {},
     "output_type": "display_data"
    },
    {
     "data": {
      "text/html": [
       "2.9965286711637e-31"
      ],
      "text/latex": [
       "2.9965286711637e-31"
      ],
      "text/markdown": [
       "2.9965286711637e-31"
      ],
      "text/plain": [
       "[1] 2.996529e-31"
      ]
     },
     "metadata": {},
     "output_type": "display_data"
    },
    {
     "name": "stdout",
     "output_type": "stream",
     "text": [
      "[1] \"Con unos p-valores tan bajos, NO podemos asumir que siguen una distribución normal\"\n",
      "[1] \"Realizaremos por tanto el test de Wilcox\"\n"
     ]
    },
    {
     "data": {
      "text/plain": [
       "\n",
       "\tWilcoxon rank sum test with continuity correction\n",
       "\n",
       "data:  df_sample$edad_estimada[df_sample$first_degree_hx == \"SI\"] and df_sample$edad_estimada[df_sample$first_degree_hx == \"NO\"]\n",
       "W = 1542200, p-value = 2.339e-06\n",
       "alternative hypothesis: true location shift is not equal to 0\n"
      ]
     },
     "metadata": {},
     "output_type": "display_data"
    },
    {
     "data": {
      "text/html": [
       "58.7957937584803"
      ],
      "text/latex": [
       "58.7957937584803"
      ],
      "text/markdown": [
       "58.7957937584803"
      ],
      "text/plain": [
       "[1] 58.79579"
      ]
     },
     "metadata": {},
     "output_type": "display_data"
    },
    {
     "data": {
      "text/html": [
       "56.492315845257"
      ],
      "text/latex": [
       "56.492315845257"
      ],
      "text/markdown": [
       "56.492315845257"
      ],
      "text/plain": [
       "[1] 56.49232"
      ]
     },
     "metadata": {},
     "output_type": "display_data"
    }
   ],
   "source": [
    "# Realizamos el test de shapiro para ver si la edad estimada en función de si se tienen antecendentes\n",
    "# siguen una distribución normal\n",
    "shapiro.test(df_sample$edad_estimada[df_sample$first_degree_hx==\"SI\"])$p.value\n",
    "shapiro.test(df_sample$edad_estimada[df_sample$first_degree_hx==\"NO\"])$p.value\n",
    "\n",
    "print(\"Con unos p-valores tan bajos, NO podemos asumir que siguen una distribución normal\")\n",
    "print(\"Realizaremos por tanto el test de Wilcox\") \n",
    "\n",
    "wilcox.test(df_sample$edad_estimada[df_sample$first_degree_hx==\"SI\"],\n",
    "                df_sample$edad_estimada[df_sample$first_degree_hx==\"NO\"])\n",
    "mean(df_sample$edad_estimada[df_sample$first_degree_hx==\"SI\"],na.rm=T)\n",
    "mean(df_sample$edad_estimada[df_sample$first_degree_hx==\"NO\"],na.rm=T)\n"
   ]
  },
  {
   "cell_type": "markdown",
   "metadata": {},
   "source": [
    "**Dado el valor tan bajo del pvalue, nos obliga a rechazar la hipotesis nula. Es decir, la edad de aparición de cancer es independiente de si se tienen antecedentes familiares o no**"
   ]
  },
  {
   "cell_type": "markdown",
   "metadata": {},
   "source": [
    "Dibuja la curva de densidad de probabilidad de cómo varía la edad de aparición del cancer en función de si ha habido antecedentes familiares o no."
   ]
  },
  {
   "cell_type": "code",
   "execution_count": 7,
   "metadata": {},
   "outputs": [
    {
     "data": {},
     "metadata": {},
     "output_type": "display_data"
    },
    {
     "data": {
      "image/png": "[encoded data removed]",
      "text/plain": [
       "plot without title"
      ]
     },
     "metadata": {},
     "output_type": "display_data"
    }
   ],
   "source": [
    "require(ggplot2)\n",
    "options(repr.plot.width=7,repr.plot.height=4)\n",
    "ggplot(data=df_sample,aes(x=edad_estimada,color=first_degree_hx)) + geom_density(bw=2)"
   ]
  },
  {
   "cell_type": "markdown",
   "metadata": {},
   "source": [
    "** Al igual que en el diagrama de cajas, vemos que las funciones de densidad se solapan mucho y no se puede hacer una distinción clara entre los dos casos **"
   ]
  },
  {
   "cell_type": "markdown",
   "metadata": {},
   "source": [
    "#### Edad y BIRADS"
   ]
  },
  {
   "cell_type": "markdown",
   "metadata": {},
   "source": [
    "Representa en un diagrama de cajas cómo varía la edad de aparición del cancer en función de la densidad del cancder (BIRADS)."
   ]
  },
  {
   "cell_type": "code",
   "execution_count": 8,
   "metadata": {},
   "outputs": [
    {
     "data": {},
     "metadata": {},
     "output_type": "display_data"
    },
    {
     "data": {
      "image/png": "[encoded data removed]",
      "text/plain": [
       "plot without title"
      ]
     },
     "metadata": {},
     "output_type": "display_data"
    }
   ],
   "source": [
    "ggplot(data=df_sample,aes(x=BIRADS_breast_density ,y=edad_estimada,color=BIRADS_breast_density)) + geom_boxplot()"
   ]
  },
  {
   "cell_type": "markdown",
   "metadata": {},
   "source": [
    "**En este caso vemos que a simple vista,si hay algo de diferéncia en las medianas y quizá se podría distinquir el caso 4**"
   ]
  },
  {
   "cell_type": "markdown",
   "metadata": {},
   "source": [
    "¿Existe una evidencia estadística significativa para decir que la edad en la que se detecta el cancer depende de la densidad del cancer (BIRADS)?\n",
    "\n",
    "¿Que test habría que aplicar?"
   ]
  },
  {
   "cell_type": "code",
   "execution_count": 9,
   "metadata": {},
   "outputs": [
    {
     "name": "stdout",
     "output_type": "stream",
     "text": [
      "[1] \"BIRADS: 1 pvalue: 8.03867014659889e-05\"\n",
      "[1] \"BIRADS: 2 pvalue: 2.01983358371917e-20\"\n",
      "[1] \"BIRADS: 3 pvalue: 1.39606010020347e-20\"\n",
      "[1] \"BIRADS: 4 pvalue: 3.40437954042275e-09\"\n"
     ]
    },
    {
     "data": {
      "text/plain": [
       "\n",
       "\tKruskal-Wallis rank sum test\n",
       "\n",
       "data:  edad_estimada by BIRADS_breast_density\n",
       "Kruskal-Wallis chi-squared = 156.19, df = 3, p-value < 2.2e-16\n"
      ]
     },
     "metadata": {},
     "output_type": "display_data"
    }
   ],
   "source": [
    "# Mediante el test de shapiro miramos si la edad estimada para cada nivel sigue una distribución normal \n",
    "for (l in levels(df_sample$BIRADS_breast_density)){\n",
    "    print(paste(\"BIRADS:\",l,\"pvalue:\",\n",
    "                shapiro.test(df_sample$edad_estimada[df_sample$BIRADS_breast_density==l])$p.value))    \n",
    "}\n",
    "\n",
    "# Con los pvaues tan bajos no podemos asumir mormalidad.\n",
    "# Se trata de comparar medias entre diferentes grupos de datos. Si tuvieramos unas distribuciones gaussianas\n",
    "# utiizaríamos el test de ANOVA, pero como no lo son, utilizaremos el test de Kruskal\n",
    "kruskal.test(edad_estimada ~ BIRADS_breast_density, data=df_sample)              \n"
   ]
  },
  {
   "cell_type": "markdown",
   "metadata": {},
   "source": [
    "**EL pvalue tan bajo de este test nos lleva a rechazar la hipotesis nula, lo que implica que la edad de detección no depende de manera significativa de la densidad del cancer **"
   ]
  },
  {
   "cell_type": "markdown",
   "metadata": {},
   "source": [
    "#### Tablas de contingencia: BIRADS"
   ]
  },
  {
   "cell_type": "markdown",
   "metadata": {},
   "source": [
    "¿Todos los  tipos de cancer (BIRADS) son igual de probables? ¿Con que test lo comprobarías?"
   ]
  },
  {
   "cell_type": "code",
   "execution_count": 10,
   "metadata": {},
   "outputs": [
    {
     "data": {
      "text/plain": [
       "\n",
       "   1    2    3    4 \n",
       " 297 1665 1451  256 "
      ]
     },
     "metadata": {},
     "output_type": "display_data"
    },
    {
     "data": {
      "text/plain": [
       "\n",
       "\tChi-squared test for given probabilities\n",
       "\n",
       "data:  frequencias_BIRADS\n",
       "X-squared = 1816.3, df = 3, p-value < 2.2e-16\n"
      ]
     },
     "metadata": {},
     "output_type": "display_data"
    }
   ],
   "source": [
    "# Creamos una tabla que nos de la frecuencia de cada tipo de cancer\n",
    "frequencias_BIRADS <- table(df_sample$BIRADS_breast_density)\n",
    "frequencias_BIRADS\n",
    "\n",
    "# A simple vista diríamos que el tipo 2 es el mas comun\n",
    "# Como los valores de la tabla de contingencia son altos, podemos realizar la prueba con el test de chi-cuadrado\n",
    "chisq.test(frequencias_BIRADS)\n",
    "# El pvalor es muy bajo, por lo que rechazamos la hipotesis nula y por tanto asumimos que no todos los tipos de cancer son igualmente probables"
   ]
  },
  {
   "cell_type": "markdown",
   "metadata": {},
   "source": [
    " **El pvalor es muy bajo, por lo que rechazamos la hipotesis nula y por tanto asumimos que no todos los tipos de cancer son igualmente probables**"
   ]
  },
  {
   "cell_type": "markdown",
   "metadata": {},
   "source": [
    "¿Cual es el tipo de cancer (BIRADS) más común? ¿Con qué proporción?"
   ]
  },
  {
   "cell_type": "code",
   "execution_count": 11,
   "metadata": {},
   "outputs": [
    {
     "data": {
      "text/plain": [
       "\n",
       "         1          2          3          4 \n",
       "0.08094849 0.45380213 0.39547561 0.06977378 "
      ]
     },
     "metadata": {},
     "output_type": "display_data"
    },
    {
     "data": {
      "text/html": [
       "<span style=white-space:pre-wrap>'El tipo de cancer más común es el Scattered fibroglandular densities con una proporción del  45.38 %'</span>"
      ],
      "text/latex": [
       "'El tipo de cancer más común es el Scattered fibroglandular densities con una proporción del  45.38 \\%'"
      ],
      "text/markdown": [
       "<span style=white-space:pre-wrap>'El tipo de cancer más común es el Scattered fibroglandular densities con una proporción del  45.38 %'</span>"
      ],
      "text/plain": [
       "[1] \"El tipo de cancer más común es el Scattered fibroglandular densities con una proporción del  45.38 %\""
      ]
     },
     "metadata": {},
     "output_type": "display_data"
    }
   ],
   "source": [
    "prob <- prop.table(frequencias_BIRADS)\n",
    "prob\n",
    "paste(\"El tipo de cancer más común es el Scattered fibroglandular densities con una proporción del \",round(prob[2]*100,2),\"%\")"
   ]
  },
  {
   "cell_type": "markdown",
   "metadata": {},
   "source": [
    "¿Depende el tipo de cancer (BIRADS) de si ha habido o no antecedentes familiares?"
   ]
  },
  {
   "cell_type": "code",
   "execution_count": 12,
   "metadata": {},
   "outputs": [
    {
     "data": {
      "text/plain": [
       "               BIRADS_breast_density\n",
       "first_degree_hx    1    2    3    4\n",
       "             NO  223 1324 1135  190\n",
       "             SI   56  248  229   45"
      ]
     },
     "metadata": {},
     "output_type": "display_data"
    },
    {
     "data": {
      "text/plain": [
       "\n",
       "\tPearson's Chi-squared test\n",
       "\n",
       "data:  frequencias\n",
       "X-squared = 4.2475, df = 3, p-value = 0.236\n"
      ]
     },
     "metadata": {},
     "output_type": "display_data"
    }
   ],
   "source": [
    "# Creamos la tabla de frecuencias entre las dos variables\n",
    "frequencias <- table(df_sample[c(\"first_degree_hx\",\"BIRADS_breast_density\")])\n",
    "frequencias\n",
    "\n",
    "# Al igual que el caso anterior hacemos la prueba con el test chi-cuadrado\n",
    "chisq.test(frequencias)\n",
    "# El pvalor es alto, por lo que aceptamos la hipotesis nula y asumimos que no hay dependencia entre el tipo de cancer y si ha habido o no antecedentes familiares"
   ]
  },
  {
   "cell_type": "markdown",
   "metadata": {},
   "source": [
    "**El pvalor es alto, por lo que aceptamos la hipotesis nula y asumimos que no hay dependencia entre el tipo de cancer y si ha habido o no antecedentes familiares**"
   ]
  },
  {
   "cell_type": "markdown",
   "metadata": {},
   "source": [
    "¿Depende el tipo de cancer BIRADS del grupo étnico?"
   ]
  },
  {
   "cell_type": "code",
   "execution_count": 13,
   "metadata": {},
   "outputs": [
    {
     "data": {
      "text/plain": [
       "        BIRADS_breast_density\n",
       "race_eth    1    2    3    4\n",
       "       1  204 1208 1021  179\n",
       "       2   23  100   92   11\n",
       "       3   11   51   85   29\n",
       "       4    1    7    6    3\n",
       "       5   26   98   94   11\n",
       "       6    2   19   15    3"
      ]
     },
     "metadata": {},
     "output_type": "display_data"
    },
    {
     "name": "stderr",
     "output_type": "stream",
     "text": [
      "Warning message in chisq.test(frequencias_etnico):\n",
      "“Chi-squared approximation may be incorrect”"
     ]
    },
    {
     "data": {
      "text/plain": [
       "\n",
       "\tPearson's Chi-squared test\n",
       "\n",
       "data:  frequencias_etnico\n",
       "X-squared = 48.684, df = 15, p-value = 1.971e-05\n"
      ]
     },
     "metadata": {},
     "output_type": "display_data"
    },
    {
     "data": {
      "text/plain": [
       "\n",
       "\tFisher's Exact Test for Count Data with simulated p-value (based on\n",
       "\t2000 replicates)\n",
       "\n",
       "data:  frequencias_etnico\n",
       "p-value = 0.0004998\n",
       "alternative hypothesis: two.sided\n"
      ]
     },
     "metadata": {},
     "output_type": "display_data"
    }
   ],
   "source": [
    "\n",
    "# Creamos la tabla de frecuencias entre las dos variables\n",
    "frequencias_etnico <- table(df_sample[c(\"race_eth\",\"BIRADS_breast_density\")])\n",
    "frequencias_etnico\n",
    "\n",
    "# Al igual que el caso anterior hacemos la prueba con el test chi-cuadrado\n",
    "chisq.test(frequencias_etnico)\n",
    "# El Warning que da el test de chi.cuadrado entiendo que es por las pocas muestras que hay en algunos grupos, por lo que \n",
    "# aplicamos también el test de Fisher\n",
    "fisher.test(frequencias_etnico,simulate.p.value=TRUE)"
   ]
  },
  {
   "cell_type": "markdown",
   "metadata": {},
   "source": [
    "**En los dos tests ha dado unos pvalues muy bajos con lo que rechazamos la hipótesis nula y asumimos que si hay una dependencia entre los grupos étnicos y el cancer**"
   ]
  },
  {
   "cell_type": "markdown",
   "metadata": {},
   "source": [
    "¿Cual es la probabilidad (con su margen de error del 95%) de que un *Native American* tenga un cancer de tipo *Almost entirely fat*?\n",
    "\n",
    "*Aviso*: Cuidado con los NA"
   ]
  },
  {
   "cell_type": "markdown",
   "metadata": {},
   "source": [
    "Suponiendo que nos fijemos solamente en la raza *Native American* (tipo 4), ¿cual es la probabilidad de que tenga un cancer de tipo *Almost entirely fat*(tipo 1)?\n",
    "\n",
    "\\\\[\n",
    "P(\\text{Almost entirely fat|Native American})=\\frac{1}{1+7+6+3}=0.0588235\n",
    "\\\\]"
   ]
  },
  {
   "cell_type": "code",
   "execution_count": 14,
   "metadata": {},
   "outputs": [
    {
     "data": {
      "text/plain": [
       "        BIRADS_breast_density\n",
       "race_eth          1          2          3          4\n",
       "       1 0.07810107 0.46248086 0.39088821 0.06852986\n",
       "       2 0.10176991 0.44247788 0.40707965 0.04867257\n",
       "       3 0.06250000 0.28977273 0.48295455 0.16477273\n",
       "       4 0.05882353 0.41176471 0.35294118 0.17647059\n",
       "       5 0.11353712 0.42794760 0.41048035 0.04803493\n",
       "       6 0.05128205 0.48717949 0.38461538 0.07692308"
      ]
     },
     "metadata": {},
     "output_type": "display_data"
    },
    {
     "data": {
      "text/html": [
       "'Un Nativo americano tiene una probabilidad de tener cancer tipo Almost entirely fat de: 5.88 %'"
      ],
      "text/latex": [
       "'Un Nativo americano tiene una probabilidad de tener cancer tipo Almost entirely fat de: 5.88 \\%'"
      ],
      "text/markdown": [
       "'Un Nativo americano tiene una probabilidad de tener cancer tipo Almost entirely fat de: 5.88 %'"
      ],
      "text/plain": [
       "[1] \"Un Nativo americano tiene una probabilidad de tener cancer tipo Almost entirely fat de: 5.88 %\""
      ]
     },
     "metadata": {},
     "output_type": "display_data"
    }
   ],
   "source": [
    "# Obtenemos la matriz de probabilidades condicionales\n",
    "pt <-prop.table(frequencias_etnico,margin = 1)\n",
    "pt\n",
    "paste(\"Un Nativo americano tiene una probabilidad de tener cancer tipo Almost entirely fat de:\",round(pt[4,1]*100,2),'%')"
   ]
  },
  {
   "cell_type": "code",
   "execution_count": 15,
   "metadata": {},
   "outputs": [
    {
     "data": {
      "text/plain": [
       "\n",
       "\tExact binomial test\n",
       "\n",
       "data:  cancer_tipo1 and cancer_tipo1 + cancer_NO_tipo1\n",
       "number of successes = 1, number of trials = 17, p-value = 0.0002747\n",
       "alternative hypothesis: true probability of success is not equal to 0.5\n",
       "95 percent confidence interval:\n",
       " 0.001488174 0.286889397\n",
       "sample estimates:\n",
       "probability of success \n",
       "            0.05882353 \n"
      ]
     },
     "metadata": {},
     "output_type": "display_data"
    },
    {
     "data": {
      "text/html": [
       "'Un Nativo americano tiene una probabilidad de tener cancer tipo Almost entirely fat de: 5.88 % '"
      ],
      "text/latex": [
       "'Un Nativo americano tiene una probabilidad de tener cancer tipo Almost entirely fat de: 5.88 \\% '"
      ],
      "text/markdown": [
       "'Un Nativo americano tiene una probabilidad de tener cancer tipo Almost entirely fat de: 5.88 % '"
      ],
      "text/plain": [
       "[1] \"Un Nativo americano tiene una probabilidad de tener cancer tipo Almost entirely fat de: 5.88 % \""
      ]
     },
     "metadata": {},
     "output_type": "display_data"
    },
    {
     "data": {
      "text/html": [
       "<span style=white-space:pre-wrap>'El 95% de los casos estarán dentro del intervalo:[ 0.1 % y  28.7 %]'</span>"
      ],
      "text/latex": [
       "'El 95\\% de los casos estarán dentro del intervalo:{[} 0.1 \\% y  28.7 \\%{]}'"
      ],
      "text/markdown": [
       "<span style=white-space:pre-wrap>'El 95% de los casos estarán dentro del intervalo:[ 0.1 % y  28.7 %]'</span>"
      ],
      "text/plain": [
       "[1] \"El 95% de los casos estarán dentro del intervalo:[ 0.1 % y  28.7 %]\""
      ]
     },
     "metadata": {},
     "output_type": "display_data"
    }
   ],
   "source": [
    "# Tambien podemos estimar la probabilidad con una binomial \n",
    "cancer_tipo1 <- frequencias_etnico[4,1]\n",
    "cancer_NO_tipo1 <- sum(frequencias_etnico[4,2:ncol(frequencias_etnico)])\n",
    "\n",
    "# Hacemos un test binomial con los casos positivos (cancer_tipo1) y todos los casos posibles (cancer_tipo1+cancer_NO_tipo1)\n",
    "Almost_entirely_fat <- binom.test(cancer_tipo1,cancer_tipo1+cancer_NO_tipo1)\n",
    "Almost_entirely_fat\n",
    "estimado <- Almost_entirely_fat$estimate\n",
    "int_inf <- Almost_entirely_fat$conf.int[1]\n",
    "int_sup <- Almost_entirely_fat$conf.int[2]\n",
    "\n",
    "paste(\"Un Nativo americano tiene una probabilidad de tener cancer tipo Almost entirely fat de:\",round(estimado*100,2),'% ')\n",
    "paste(\"El 95% de los casos estarán dentro del intervalo:[\",round(int_inf,3)*100,\"% y \",round(int_sup,3)*100,\"%]\")\n"
   ]
  },
  {
   "cell_type": "code",
   "execution_count": null,
   "metadata": {},
   "outputs": [],
   "source": []
  }
 ],
 "metadata": {
  "kernelspec": {
   "display_name": "R",
   "language": "R",
   "name": "ir"
  },
  "language_info": {
   "codemirror_mode": "r",
   "file_extension": ".r",
   "mimetype": "text/x-r-source",
   "name": "R",
   "pygments_lexer": "r",
   "version": "3.2.3"
  }
 },
 "nbformat": 4,
 "nbformat_minor": 1
}
